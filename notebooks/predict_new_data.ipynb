{
  "nbformat": 4,
  "nbformat_minor": 0,
  "metadata": {
    "colab": {
      "provenance": []
    },
    "kernelspec": {
      "name": "python3",
      "display_name": "Python 3"
    },
    "language_info": {
      "name": "python"
    }
  },
  "cells": [
    {
      "cell_type": "code",
      "execution_count": 1,
      "metadata": {
        "id": "Bg3WEjvsmTSJ"
      },
      "outputs": [],
      "source": [
        "import os\n",
        "import pandas as pd"
      ]
    },
    {
      "cell_type": "code",
      "source": [
        "#Vamos a generar un nuevo conjunto de datos de solo 200 registros, lo obgtendremos de manera aleatoria de nuestro dataset de prueba\n",
        "os.chdir('/content/drive/MyDrive/data_fraud')"
      ],
      "metadata": {
        "id": "vLHlIQ81oXMx"
      },
      "execution_count": 6,
      "outputs": []
    },
    {
      "cell_type": "code",
      "source": [
        "prueba = pd.read_csv('test.csv')"
      ],
      "metadata": {
        "id": "nBfbxQtzpgJu"
      },
      "execution_count": 7,
      "outputs": []
    },
    {
      "cell_type": "code",
      "source": [
        "# primero veamos que proporción tenemos de 'is fraud'\n",
        "prueba['isFraud'].value_counts()"
      ],
      "metadata": {
        "colab": {
          "base_uri": "https://localhost:8080/",
          "height": 178
        },
        "id": "X7FPwdQvppbx",
        "outputId": "e57235fa-4a68-448e-b1f8-f624016c816d"
      },
      "execution_count": 8,
      "outputs": [
        {
          "output_type": "execute_result",
          "data": {
            "text/plain": [
              "isFraud\n",
              "0    40001\n",
              "1     4132\n",
              "Name: count, dtype: int64"
            ],
            "text/html": [
              "<div>\n",
              "<style scoped>\n",
              "    .dataframe tbody tr th:only-of-type {\n",
              "        vertical-align: middle;\n",
              "    }\n",
              "\n",
              "    .dataframe tbody tr th {\n",
              "        vertical-align: top;\n",
              "    }\n",
              "\n",
              "    .dataframe thead th {\n",
              "        text-align: right;\n",
              "    }\n",
              "</style>\n",
              "<table border=\"1\" class=\"dataframe\">\n",
              "  <thead>\n",
              "    <tr style=\"text-align: right;\">\n",
              "      <th></th>\n",
              "      <th>count</th>\n",
              "    </tr>\n",
              "    <tr>\n",
              "      <th>isFraud</th>\n",
              "      <th></th>\n",
              "    </tr>\n",
              "  </thead>\n",
              "  <tbody>\n",
              "    <tr>\n",
              "      <th>0</th>\n",
              "      <td>40001</td>\n",
              "    </tr>\n",
              "    <tr>\n",
              "      <th>1</th>\n",
              "      <td>4132</td>\n",
              "    </tr>\n",
              "  </tbody>\n",
              "</table>\n",
              "</div><br><label><b>dtype:</b> int64</label>"
            ]
          },
          "metadata": {},
          "execution_count": 8
        }
      ]
    },
    {
      "cell_type": "code",
      "source": [
        "# Listo, ahora podemos generar nuestro subconjunto aleatorio, para poder utilizarlo como si fueran nuestros datos nuevos\n",
        "\n",
        "muestra = prueba.sample(n=200, random_state=42)\n"
      ],
      "metadata": {
        "id": "W-Ete_RXp25N"
      },
      "execution_count": 12,
      "outputs": []
    },
    {
      "cell_type": "code",
      "source": [
        "#Comprobemos que tenemos casos de fraude en este subconjunto de datos\n",
        "muestra['isFraud'].value_counts()"
      ],
      "metadata": {
        "colab": {
          "base_uri": "https://localhost:8080/",
          "height": 178
        },
        "id": "p2y2-w4Xqgey",
        "outputId": "82274507-ad1a-4b86-8841-5582f1b0f999"
      },
      "execution_count": 13,
      "outputs": [
        {
          "output_type": "execute_result",
          "data": {
            "text/plain": [
              "isFraud\n",
              "0    179\n",
              "1     21\n",
              "Name: count, dtype: int64"
            ],
            "text/html": [
              "<div>\n",
              "<style scoped>\n",
              "    .dataframe tbody tr th:only-of-type {\n",
              "        vertical-align: middle;\n",
              "    }\n",
              "\n",
              "    .dataframe tbody tr th {\n",
              "        vertical-align: top;\n",
              "    }\n",
              "\n",
              "    .dataframe thead th {\n",
              "        text-align: right;\n",
              "    }\n",
              "</style>\n",
              "<table border=\"1\" class=\"dataframe\">\n",
              "  <thead>\n",
              "    <tr style=\"text-align: right;\">\n",
              "      <th></th>\n",
              "      <th>count</th>\n",
              "    </tr>\n",
              "    <tr>\n",
              "      <th>isFraud</th>\n",
              "      <th></th>\n",
              "    </tr>\n",
              "  </thead>\n",
              "  <tbody>\n",
              "    <tr>\n",
              "      <th>0</th>\n",
              "      <td>179</td>\n",
              "    </tr>\n",
              "    <tr>\n",
              "      <th>1</th>\n",
              "      <td>21</td>\n",
              "    </tr>\n",
              "  </tbody>\n",
              "</table>\n",
              "</div><br><label><b>dtype:</b> int64</label>"
            ]
          },
          "metadata": {},
          "execution_count": 13
        }
      ]
    },
    {
      "cell_type": "code",
      "source": [
        "# Y listo, ahora salvemos este subconjunto de datos como un csv\n",
        "muestra.to_csv('new_data.csv')\n"
      ],
      "metadata": {
        "id": "Gipin-j6rh_r"
      },
      "execution_count": 14,
      "outputs": []
    },
    {
      "cell_type": "markdown",
      "source": [
        "Ahora que ya tenemos nuestros \"datos nuevos\" vamos a llamar a nuestro modelo y las funciones que hacen que funcione bien"
      ],
      "metadata": {
        "id": "9IgCQtcVsAup"
      }
    },
    {
      "cell_type": "code",
      "source": [
        "os.chdir('/content/drive/MyDrive')"
      ],
      "metadata": {
        "id": "XH_1LbNAsSDC"
      },
      "execution_count": 34,
      "outputs": []
    },
    {
      "cell_type": "code",
      "source": [
        "from custom_pipeline import DropColumns, ThresholdClassifier, log_transform, inverse_log_transform, sqrt_transform"
      ],
      "metadata": {
        "id": "DatchuvqsoUT"
      },
      "execution_count": 35,
      "outputs": []
    },
    {
      "cell_type": "code",
      "source": [
        "from joblib import load"
      ],
      "metadata": {
        "id": "5fJ2862VtDUC"
      },
      "execution_count": 36,
      "outputs": []
    },
    {
      "cell_type": "code",
      "source": [
        "pipeline_final_xgb = load('models_fraud/pipeline_final_xgb.joblib')"
      ],
      "metadata": {
        "id": "WxFVgQugtICt"
      },
      "execution_count": 37,
      "outputs": []
    },
    {
      "cell_type": "code",
      "source": [
        "new_data = pd.read_csv('data_fraud/new_data.csv')"
      ],
      "metadata": {
        "id": "psYBAFciuBnT"
      },
      "execution_count": 38,
      "outputs": []
    },
    {
      "cell_type": "code",
      "source": [
        "X_new = new_data.drop(columns=['isFraud'])\n",
        "y_new = new_data['isFraud']"
      ],
      "metadata": {
        "id": "u_GQTFcnuGB3"
      },
      "execution_count": 39,
      "outputs": []
    },
    {
      "cell_type": "code",
      "source": [
        "# Hacemos nuestras predicciones\n",
        "y_pred_new = pipeline_final_xgb.predict(X_new)"
      ],
      "metadata": {
        "colab": {
          "base_uri": "https://localhost:8080/"
        },
        "id": "EoMwMk6huSJ4",
        "outputId": "943dab50-6ab8-4146-f656-3fcbf693dce7"
      },
      "execution_count": 40,
      "outputs": [
        {
          "output_type": "stream",
          "name": "stderr",
          "text": [
            "/usr/local/lib/python3.11/dist-packages/sklearn/pipeline.py:62: FutureWarning: This Pipeline instance is not fitted yet. Call 'fit' with appropriate arguments before using other methods such as transform, predict, etc. This will raise an error in 1.8 instead of the current warning.\n",
            "  warnings.warn(\n"
          ]
        }
      ]
    },
    {
      "cell_type": "code",
      "source": [
        "print(y_pred_new)"
      ],
      "metadata": {
        "colab": {
          "base_uri": "https://localhost:8080/"
        },
        "id": "Vy3bLHOOug_s",
        "outputId": "1653b5e1-d31e-49c4-e38d-f7ddca215f10"
      },
      "execution_count": 41,
      "outputs": [
        {
          "output_type": "stream",
          "name": "stdout",
          "text": [
            "[1 1 0 1 0 0 0 0 0 0 0 0 1 0 1 0 0 0 1 0 0 1 0 0 0 0 0 0 0 0 0 0 1 0 0 0 0\n",
            " 0 0 0 1 1 0 0 0 0 1 0 0 0 0 0 0 0 0 0 0 1 0 0 1 1 1 0 1 1 0 0 1 0 0 0 0 0\n",
            " 0 1 1 1 1 0 0 0 0 0 1 0 0 0 1 0 0 1 0 0 1 0 1 0 1 0 0 0 0 1 0 0 0 0 0 1 0\n",
            " 0 0 0 1 0 1 0 0 0 1 1 0 0 0 0 0 0 1 1 0 0 0 0 0 0 1 0 0 0 0 1 1 0 0 0 0 1\n",
            " 1 0 0 0 0 0 0 0 0 0 0 0 0 1 0 0 1 0 0 0 0 1 1 0 0 0 1 0 0 0 0 0 0 0 0 0 1\n",
            " 0 0 1 0 0 0 0 0 1 0 0 1 0 0 0]\n"
          ]
        }
      ]
    },
    {
      "cell_type": "code",
      "source": [
        "from sklearn.metrics import classification_report, confusion_matrix, accuracy_score, recall_score, ConfusionMatrixDisplay\n",
        "import matplotlib.pyplot as plt"
      ],
      "metadata": {
        "id": "YDpwvAIGunUm"
      },
      "execution_count": 45,
      "outputs": []
    },
    {
      "cell_type": "code",
      "source": [
        "# Veamos nuestro rendimiento con \"los nuevos datos\"\n",
        "print(classification_report(y_new, y_pred_new))"
      ],
      "metadata": {
        "colab": {
          "base_uri": "https://localhost:8080/"
        },
        "id": "jeNhpB-Rus9b",
        "outputId": "788172b8-ae3c-4aad-cee4-05adc4c82392"
      },
      "execution_count": 43,
      "outputs": [
        {
          "output_type": "stream",
          "name": "stdout",
          "text": [
            "              precision    recall  f1-score   support\n",
            "\n",
            "           0       0.98      0.82      0.89       179\n",
            "           1       0.36      0.86      0.51        21\n",
            "\n",
            "    accuracy                           0.82       200\n",
            "   macro avg       0.67      0.84      0.70       200\n",
            "weighted avg       0.91      0.82      0.85       200\n",
            "\n"
          ]
        }
      ]
    },
    {
      "cell_type": "code",
      "source": [
        "acc = accuracy_score(y_new, y_pred_new)\n",
        "rec = recall_score(y_new, y_pred_new)\n",
        "conf_m = confusion_matrix(y_new, y_pred_new)\n",
        "cm_display = ConfusionMatrixDisplay(confusion_matrix=conf_m,\n",
        "                                    display_labels=['No_fraude', 'Fraude']) # Reemplaza con tus etiquetas\n",
        "cm_display.plot(cmap=plt.cm.Blues)\n",
        "plt.show()\n",
        "\n",
        "print(f'Accuracy: {acc}')\n",
        "print(f'Recall: {rec}')\n",
        "print(f'Confusion Matrix: \\n{conf_m}')"
      ],
      "metadata": {
        "colab": {
          "base_uri": "https://localhost:8080/",
          "height": 537
        },
        "id": "7JNNr3ybvNFj",
        "outputId": "4022bff2-2f96-4f38-c222-ae90baf53a3b"
      },
      "execution_count": 46,
      "outputs": [
        {
          "output_type": "display_data",
          "data": {
            "text/plain": [
              "<Figure size 640x480 with 2 Axes>"
            ],
            "image/png": "[encoded data removed]"
          },
          "metadata": {}
        },
        {
          "output_type": "stream",
          "name": "stdout",
          "text": [
            "Accuracy: 0.825\n",
            "Recall: 0.8571428571428571\n",
            "Confusion Matrix: \n",
            "[[147  32]\n",
            " [  3  18]]\n"
          ]
        }
      ]
    },
    {
      "cell_type": "markdown",
      "source": [
        "Podemos ver que se estan detectando correctamente 18 fraudes de 21, es una buena señal de que estamos cumpliendo nuestro objetivo de detección de fraudes, en consecuencia estamos clasificando erróneamente cerca del 18% de transacciones legítimas como fraudulentas, aquí deberían actuar nuestras otras medidas de verificación para autorizar dichas transacciones legales."
      ],
      "metadata": {
        "id": "P0FtS9FqwpsE"
      }
    }
  ]
}