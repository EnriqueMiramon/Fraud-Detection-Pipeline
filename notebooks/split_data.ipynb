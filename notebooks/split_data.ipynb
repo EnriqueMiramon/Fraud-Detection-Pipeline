{
 "cells": [
  {
   "cell_type": "markdown",
   "metadata": {},
   "source": [
    "En ese notebook vamos a obtener nuestros de entrenamiento, validación y prueba, esto con la intención de que todo el preprocesamiento de datos solo lo hagamos con los datos de entrenamiento, pues nuestros datos datos de prueba no deben ser sometidos a todo esto hasta el final, para simular mejor el rendimiento de los modelos en producción.  "
   ]
  }
 ],
 "metadata": {
  "kernelspec": {
   "display_name": "env",
   "language": "python",
   "name": "python3"
  },
  "language_info": {
   "codemirror_mode": {
    "name": "ipython",
    "version": 3
   },
   "file_extension": ".py",
   "mimetype": "text/x-python",
   "name": "python",
   "nbconvert_exporter": "python",
   "pygments_lexer": "ipython3",
   "version": "3.12.4"
  }
 },
 "nbformat": 4,
 "nbformat_minor": 2
}
