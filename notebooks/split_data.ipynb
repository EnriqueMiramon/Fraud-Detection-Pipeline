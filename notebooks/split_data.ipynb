{
  "cells": [
    {
      "cell_type": "markdown",
      "metadata": {
        "id": "ITuycmUr_oqp"
      },
      "source": [
        "Una vez que hemos generado nuestra muestra, la hemos salvado en el archivo \"fraud_dataset.csv\" y hemos generado nuestro pipeline de preprocesamiento en los notebooks \"drop_columns\" y \"feature_engineering\",  nuestro objetivo es obtener nuestros tres conjuntos de datos (entrenamiento, validación y prueba).\n",
        "\n",
        "Todo ésto lo hacemos para simular lo mayor posible el rendimiento de los modelos en producción, ya que todos lo cambiso que se hagan solo deben aplicarse a los datos de ntrenamiento, por ejemplo, la creación de datos sintéticos para balancear las clases, eso solo se hace para el conunto train, no para val ni para test.\n",
        "\n",
        "Por cada técnica crearemos un pipeline final que incluya el mejor modelo de la propia técnica de modelado y desde luego el pipeline de preprocesamiento, haremos que el pipeline prediga valores para nuestros datos de prueba y los compararemos con los datos reales, solo así podremos tomar enserio las metricas de Recall, Accuracy, etc."
      ]
    },
    {
      "cell_type": "code",
      "execution_count": 1,
      "metadata": {
        "id": "ELn2LtHe_elV"
      },
      "outputs": [],
      "source": [
        "import os\n",
        "os.chdir('/content/drive/MyDrive/data_fraud')"
      ]
    },
    {
      "cell_type": "code",
      "execution_count": 2,
      "metadata": {
        "id": "Z2dhVnI6ADYg"
      },
      "outputs": [],
      "source": [
        "import pandas as pd\n",
        "from sklearn.model_selection import train_test_split"
      ]
    },
    {
      "cell_type": "code",
      "execution_count": 15,
      "metadata": {
        "id": "otkCOMnBXZyY"
      },
      "outputs": [],
      "source": [
        "# Importamos el dataset\n",
        "data_total = pd.read_csv('fraud_dataset.csv')"
      ]
    },
    {
      "cell_type": "markdown",
      "metadata": {
        "id": "uTwCcyQGRrFc"
      },
      "source": [
        "Antes que nada, aprovechamos este paso para eliminar valores duplicados, ya que no lo hemos hecho y es una parte primordial en nuestro análisis."
      ]
    },
    {
      "cell_type": "code",
      "execution_count": 16,
      "metadata": {
        "id": "QM6pbGJvA5Mj"
      },
      "outputs": [],
      "source": [
        "# borramos duplicados\n",
        "data_total = data_total.drop_duplicates()"
      ]
    },
    {
      "cell_type": "markdown",
      "metadata": {
        "id": "fozP8_qsCqqd"
      },
      "source": [
        "Ahora si, estamos en condiciones de generar nuestros tres conjuntos de datos."
      ]
    },
    {
      "cell_type": "code",
      "execution_count": 17,
      "metadata": {
        "id": "Cod1Vv0GkmmD"
      },
      "outputs": [],
      "source": [
        "# Usamos stratify para asegurarnos que cada conjunto tenga un proporcion igual en caso de fraude y no fraude\n",
        "data_train, data_temp = train_test_split(data_total, test_size=0.4, random_state=42, stratify=data_total['isFraud'])\n",
        "data_val, data_test = train_test_split(data_temp, test_size=0.5, random_state=42, stratify=data_temp['isFraud'])"
      ]
    },
    {
      "cell_type": "code",
      "execution_count": 18,
      "metadata": {
        "colab": {
          "base_uri": "https://localhost:8080/",
          "height": 178
        },
        "id": "wJFNhRrYnuNT",
        "outputId": "578c7437-c898-4dae-b7f1-9d442e261a3e"
      },
      "outputs": [
        {
          "data": {
            "text/html": [
              "<div>\n",
              "<style scoped>\n",
              "    .dataframe tbody tr th:only-of-type {\n",
              "        vertical-align: middle;\n",
              "    }\n",
              "\n",
              "    .dataframe tbody tr th {\n",
              "        vertical-align: top;\n",
              "    }\n",
              "\n",
              "    .dataframe thead th {\n",
              "        text-align: right;\n",
              "    }\n",
              "</style>\n",
              "<table border=\"1\" class=\"dataframe\">\n",
              "  <thead>\n",
              "    <tr style=\"text-align: right;\">\n",
              "      <th></th>\n",
              "      <th>count</th>\n",
              "    </tr>\n",
              "    <tr>\n",
              "      <th>isFraud</th>\n",
              "      <th></th>\n",
              "    </tr>\n",
              "  </thead>\n",
              "  <tbody>\n",
              "    <tr>\n",
              "      <th>0</th>\n",
              "      <td>119999</td>\n",
              "    </tr>\n",
              "    <tr>\n",
              "      <th>1</th>\n",
              "      <td>12398</td>\n",
              "    </tr>\n",
              "  </tbody>\n",
              "</table>\n",
              "</div><br><label><b>dtype:</b> int64</label>"
            ],
            "text/plain": [
              "isFraud\n",
              "0    119999\n",
              "1     12398\n",
              "Name: count, dtype: int64"
            ]
          },
          "execution_count": 18,
          "metadata": {},
          "output_type": "execute_result"
        }
      ],
      "source": [
        "# Veamos si el objetivo de proporciones iguales en 'isFraud' fue cumplido para nuestros conuntos\n",
        "data_train.isFraud.value_counts()"
      ]
    },
    {
      "cell_type": "code",
      "execution_count": 19,
      "metadata": {
        "colab": {
          "base_uri": "https://localhost:8080/",
          "height": 178
        },
        "id": "9SbDZtPGoWxY",
        "outputId": "31fe50f3-7129-4f94-b02f-1c377f98ddab"
      },
      "outputs": [
        {
          "data": {
            "text/html": [
              "<div>\n",
              "<style scoped>\n",
              "    .dataframe tbody tr th:only-of-type {\n",
              "        vertical-align: middle;\n",
              "    }\n",
              "\n",
              "    .dataframe tbody tr th {\n",
              "        vertical-align: top;\n",
              "    }\n",
              "\n",
              "    .dataframe thead th {\n",
              "        text-align: right;\n",
              "    }\n",
              "</style>\n",
              "<table border=\"1\" class=\"dataframe\">\n",
              "  <thead>\n",
              "    <tr style=\"text-align: right;\">\n",
              "      <th></th>\n",
              "      <th>count</th>\n",
              "    </tr>\n",
              "    <tr>\n",
              "      <th>isFraud</th>\n",
              "      <th></th>\n",
              "    </tr>\n",
              "  </thead>\n",
              "  <tbody>\n",
              "    <tr>\n",
              "      <th>0</th>\n",
              "      <td>40000</td>\n",
              "    </tr>\n",
              "    <tr>\n",
              "      <th>1</th>\n",
              "      <td>4133</td>\n",
              "    </tr>\n",
              "  </tbody>\n",
              "</table>\n",
              "</div><br><label><b>dtype:</b> int64</label>"
            ],
            "text/plain": [
              "isFraud\n",
              "0    40000\n",
              "1     4133\n",
              "Name: count, dtype: int64"
            ]
          },
          "execution_count": 19,
          "metadata": {},
          "output_type": "execute_result"
        }
      ],
      "source": [
        "data_val.isFraud.value_counts()"
      ]
    },
    {
      "cell_type": "code",
      "execution_count": 20,
      "metadata": {
        "colab": {
          "base_uri": "https://localhost:8080/",
          "height": 178
        },
        "id": "f6uzQQHXoc8y",
        "outputId": "c80374a7-ca2a-4954-a9b6-9b996503cafe"
      },
      "outputs": [
        {
          "data": {
            "text/html": [
              "<div>\n",
              "<style scoped>\n",
              "    .dataframe tbody tr th:only-of-type {\n",
              "        vertical-align: middle;\n",
              "    }\n",
              "\n",
              "    .dataframe tbody tr th {\n",
              "        vertical-align: top;\n",
              "    }\n",
              "\n",
              "    .dataframe thead th {\n",
              "        text-align: right;\n",
              "    }\n",
              "</style>\n",
              "<table border=\"1\" class=\"dataframe\">\n",
              "  <thead>\n",
              "    <tr style=\"text-align: right;\">\n",
              "      <th></th>\n",
              "      <th>count</th>\n",
              "    </tr>\n",
              "    <tr>\n",
              "      <th>isFraud</th>\n",
              "      <th></th>\n",
              "    </tr>\n",
              "  </thead>\n",
              "  <tbody>\n",
              "    <tr>\n",
              "      <th>0</th>\n",
              "      <td>40001</td>\n",
              "    </tr>\n",
              "    <tr>\n",
              "      <th>1</th>\n",
              "      <td>4132</td>\n",
              "    </tr>\n",
              "  </tbody>\n",
              "</table>\n",
              "</div><br><label><b>dtype:</b> int64</label>"
            ],
            "text/plain": [
              "isFraud\n",
              "0    40001\n",
              "1     4132\n",
              "Name: count, dtype: int64"
            ]
          },
          "execution_count": 20,
          "metadata": {},
          "output_type": "execute_result"
        }
      ],
      "source": [
        "data_test.isFraud.value_counts()"
      ]
    },
    {
      "cell_type": "markdown",
      "metadata": {
        "id": "pGrQeiaADNwm"
      },
      "source": [
        "De esta forma, ahora tenemos nuestros conjuntos de datos, solo queda salvar nuestros datos de entrenamiento."
      ]
    },
    {
      "cell_type": "code",
      "execution_count": 21,
      "metadata": {
        "id": "im4BIsjyoi6S"
      },
      "outputs": [],
      "source": [
        "# salvamos los conjuntos de datos en archivos csv\n",
        "data_train.to_csv('train.csv', index=False)\n",
        "data_val.to_csv('val.csv', index=False)\n",
        "data_test.to_csv('test.csv', index=False)"
      ]
    }
  ],
  "metadata": {
    "colab": {
      "provenance": []
    },
    "kernelspec": {
      "display_name": "env",
      "language": "python",
      "name": "python3"
    },
    "language_info": {
      "name": "python",
      "version": "3.12.4"
    }
  },
  "nbformat": 4,
  "nbformat_minor": 0
}
